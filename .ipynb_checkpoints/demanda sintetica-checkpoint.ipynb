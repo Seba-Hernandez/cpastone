{
 "cells": [
  {
   "cell_type": "code",
   "execution_count": null,
   "id": "4b8e4f07",
   "metadata": {},
   "outputs": [],
   "source": [
    "import pandas as pd\n",
    "import random as r\n",
    "import time\n",
    "import datetime\n",
    "from datetime import date\n"
   ]
  },
  {
   "cell_type": "code",
   "execution_count": null,
   "id": "005f75cb",
   "metadata": {},
   "outputs": [],
   "source": [
    "df = pd.read_csv(\"eventos.csv\",sep=\";\")\n"
   ]
  },
  {
   "cell_type": "code",
   "execution_count": null,
   "id": "c61a066e",
   "metadata": {},
   "outputs": [],
   "source": [
    "df.head(100)"
   ]
  },
  {
   "cell_type": "code",
   "execution_count": 4,
   "id": "5d0162c5",
   "metadata": {},
   "outputs": [
    {
     "ename": "SyntaxError",
     "evalue": "invalid syntax (<ipython-input-4-405a238e9897>, line 1)",
     "output_type": "error",
     "traceback": [
      "\u001b[1;36m  File \u001b[1;32m\"<ipython-input-4-405a238e9897>\"\u001b[1;36m, line \u001b[1;32m1\u001b[0m\n\u001b[1;33m    123.487408\t44.356048\t05:12\t12.688775\t18.649126\t4.995242\u001b[0m\n\u001b[1;37m              \t        ^\u001b[0m\n\u001b[1;31mSyntaxError\u001b[0m\u001b[1;31m:\u001b[0m invalid syntax\n"
     ]
    }
   ],
   "source": [
    "#123.487408\t44.356048\t05:12\t12.688775\t18.649126\t4.995242"
   ]
  },
  {
   "cell_type": "code",
   "execution_count": null,
   "id": "9ae815d2",
   "metadata": {},
   "outputs": [],
   "source": [
    "#####      CAMBIO DE HORA DE BASE DE DATOS\n",
    "i = 0\n",
    "while i<=22115:\n",
    "    x = df.at[i,\"HORARIO\"]\n",
    "    dto = datetime.datetime.strptime(x, '%H:%M')\n",
    "    f = r.randint(-10,10)\n",
    "    hora = datetime.timedelta(minutes=f) \n",
    "    final = (dto + hora).time()\n",
    "\n",
    "    \n",
    "    try:\n",
    "        y = df.at[i+1,\"HORARIO\"] \n",
    "        dto_y = datetime.datetime.strptime(y, '%H:%M').time()\n",
    "    except:\n",
    "        pass\n",
    "\n",
    "    try:\n",
    "        z = df.at[i-1,\"HORARIO\"] \n",
    "        dto_z = datetime.datetime.strptime(z, '%H:%M').time()\n",
    "    except:\n",
    "        pass\n",
    "\n",
    "    \n",
    "    if  dto_z <= final <= dto_y:\n",
    "      #  print(str(final))\n",
    "      #  print(i)\n",
    "        \n",
    "        df.at[i,\"HORARIO\"]=(str(final))[0:5]\n",
    "    i+=1\n",
    "        "
   ]
  },
  {
   "cell_type": "code",
   "execution_count": null,
   "id": "84749f77",
   "metadata": {},
   "outputs": [],
   "source": [
    "#####          CAMBIO TIEMPO DE DESPACHO\n",
    "i = 0\n",
    "while i<=22116:\n",
    "    x = r.randint(-10,10)\n",
    "    if df.at[i,\"DESPACHO\"] + x < 0: \n",
    "        y = r.randint(0,10)\n",
    "        df.at[i,\"DESPACHO\"] += y\n",
    "        i += 1\n",
    "    else:\n",
    "        df.at[i,\"DESPACHO\"]+=x\n",
    "        i+=1"
   ]
  },
  {
   "cell_type": "code",
   "execution_count": null,
   "id": "ea2cd081",
   "metadata": {},
   "outputs": [],
   "source": [
    "#####          CAMBIO DE TIEMPO DE ATENCION\n",
    "i = 0\n",
    "while i<=22116:\n",
    "    x = r.randint(-10,10)\n",
    "    if df.at[i,\"ATENCION\"] + x < 0: \n",
    "        y = r.randint(0,10)\n",
    "        df.at[i,\"ATENCION\"] += y\n",
    "        i += 1\n",
    "    else:\n",
    "        df.at[i,\"ATENCION\"]+=x\n",
    "        i+=1"
   ]
  },
  {
   "cell_type": "code",
   "execution_count": null,
   "id": "f93817e7",
   "metadata": {},
   "outputs": [],
   "source": [
    "#####           CAMBIO DE TIEMPO DE DERIVACION  \n",
    "i = 0\n",
    "while i<=22116:\n",
    "    x = r.randint(-10,10)\n",
    "    if df.at[i,\"DERIVACION\"] + x < 0: \n",
    "        y = r.randint(0,10)\n",
    "        df.at[i,\"DERIVACION\"] += y\n",
    "        i += 1\n",
    "    else:\n",
    "        df.at[i,\"DERIVACION\"]+=x\n",
    "        i+=1"
   ]
  },
  {
   "cell_type": "code",
   "execution_count": null,
   "id": "1d6b9e48",
   "metadata": {},
   "outputs": [],
   "source": [
    "#####           CAMBIO DE COORDENADAS\n",
    "i = 0\n",
    "while i<=22116:\n",
    "    x = r.randint(-20,20)\n",
    "    if df.at[i,\"COORDENADA_X\"] + x < 0: \n",
    "        y = r.randint(0,30)\n",
    "        df.at[i,\"COORDENADA_X\"] += y\n",
    "        i += 1\n",
    "    else:\n",
    "        df.at[i,\"COORDENADA_X\"]+=x\n",
    "        i+=1\n",
    "j = 0\n",
    "while j<=22116:\n",
    "    x = r.randint(-20,20)\n",
    "    if df.at[j,\"COORDENADA_Y\"] + x < 0: \n",
    "        y = r.randint(0,30)\n",
    "        df.at[j,\"COORDENADA_Y\"] += y\n",
    "        j += 1\n",
    "    else:\n",
    "        df.at[j,\"COORDENADA_Y\"]+=x\n",
    "        j+=1"
   ]
  },
  {
   "cell_type": "code",
   "execution_count": 415,
   "id": "d6398552",
   "metadata": {},
   "outputs": [],
   "source": [
    "df.to_csv(\"demanda sintetica1.csv\",sep=\";\")"
   ]
  }
 ],
 "metadata": {
  "kernelspec": {
   "display_name": "Python 3",
   "language": "python",
   "name": "python3"
  },
  "language_info": {
   "codemirror_mode": {
    "name": "ipython",
    "version": 3
   },
   "file_extension": ".py",
   "mimetype": "text/x-python",
   "name": "python",
   "nbconvert_exporter": "python",
   "pygments_lexer": "ipython3",
   "version": "3.8.8"
  }
 },
 "nbformat": 4,
 "nbformat_minor": 5
}
